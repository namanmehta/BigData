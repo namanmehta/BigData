{
 "cells": [
  {
   "cell_type": "markdown",
   "metadata": {},
   "source": [
    "# Data Import and Pre-Processing"
   ]
  },
  {
   "cell_type": "code",
   "execution_count": 1,
   "metadata": {
    "collapsed": false
   },
   "outputs": [],
   "source": [
    "from pyspark.sql import SparkSession\n",
    "from pyspark.mllib.clustering import KMeans\n",
    "import matplotlib.pyplot as plt\n",
    "import pandas as pd\n",
    "import numpy as np\n",
    "\n",
    "import warnings\n",
    "warnings.filterwarnings('ignore')"
   ]
  },
  {
   "cell_type": "code",
   "execution_count": 2,
   "metadata": {
    "collapsed": true
   },
   "outputs": [],
   "source": [
    "#Setting up Spark Session\n",
    "spark = SparkSession.builder.appName('olistRFM').getOrCreate()"
   ]
  },
  {
   "cell_type": "code",
   "execution_count": 3,
   "metadata": {
    "collapsed": false
   },
   "outputs": [],
   "source": [
    "#Importing Orders Data set\n",
    "dfOrders = spark.read.csv('olist_orders_dataset.csv', header=True, inferSchema=True)"
   ]
  },
  {
   "cell_type": "code",
   "execution_count": 4,
   "metadata": {
    "collapsed": false
   },
   "outputs": [
    {
     "name": "stdout",
     "output_type": "stream",
     "text": [
      "root\n",
      " |-- order_id: string (nullable = true)\n",
      " |-- customer_id: string (nullable = true)\n",
      " |-- order_status: string (nullable = true)\n",
      " |-- order_purchase_timestamp: timestamp (nullable = true)\n",
      " |-- order_approved_at: timestamp (nullable = true)\n",
      " |-- order_delivered_carrier_date: timestamp (nullable = true)\n",
      " |-- order_delivered_customer_date: timestamp (nullable = true)\n",
      " |-- order_estimated_delivery_date: timestamp (nullable = true)\n",
      "\n"
     ]
    }
   ],
   "source": [
    "dfOrders.printSchema()"
   ]
  },
  {
   "cell_type": "code",
   "execution_count": 5,
   "metadata": {
    "collapsed": true
   },
   "outputs": [],
   "source": [
    "#Importing Payments Data set\n",
    "dfOrdersPayment = spark.read.csv('olist_order_payments_dataset.csv', header=True, inferSchema=True)"
   ]
  },
  {
   "cell_type": "code",
   "execution_count": 6,
   "metadata": {
    "collapsed": false
   },
   "outputs": [
    {
     "name": "stdout",
     "output_type": "stream",
     "text": [
      "root\n",
      " |-- order_id: string (nullable = true)\n",
      " |-- payment_sequential: integer (nullable = true)\n",
      " |-- payment_type: string (nullable = true)\n",
      " |-- payment_installments: integer (nullable = true)\n",
      " |-- payment_value: double (nullable = true)\n",
      "\n"
     ]
    }
   ],
   "source": [
    "dfOrdersPayment.printSchema()"
   ]
  },
  {
   "cell_type": "code",
   "execution_count": 7,
   "metadata": {
    "collapsed": false
   },
   "outputs": [
    {
     "data": {
      "text/plain": [
       "99441"
      ]
     },
     "execution_count": 7,
     "metadata": {},
     "output_type": "execute_result"
    }
   ],
   "source": [
    "dfOrders.count()"
   ]
  },
  {
   "cell_type": "code",
   "execution_count": 8,
   "metadata": {
    "collapsed": false
   },
   "outputs": [
    {
     "data": {
      "text/plain": [
       "103886"
      ]
     },
     "execution_count": 8,
     "metadata": {},
     "output_type": "execute_result"
    }
   ],
   "source": [
    "dfOrdersPayment.count()"
   ]
  },
  {
   "cell_type": "code",
   "execution_count": 9,
   "metadata": {
    "collapsed": false
   },
   "outputs": [
    {
     "name": "stdout",
     "output_type": "stream",
     "text": [
      "+--------------------+--------------------+------------+------------------------+-------------------+----------------------------+-----------------------------+-----------------------------+\n",
      "|            order_id|         customer_id|order_status|order_purchase_timestamp|  order_approved_at|order_delivered_carrier_date|order_delivered_customer_date|order_estimated_delivery_date|\n",
      "+--------------------+--------------------+------------+------------------------+-------------------+----------------------------+-----------------------------+-----------------------------+\n",
      "|e481f51cbdc54678b...|9ef432eb625129730...|   delivered|     2017-10-02 10:56:33|2017-10-02 11:07:15|         2017-10-04 19:55:00|          2017-10-10 21:25:13|          2017-10-18 00:00:00|\n",
      "|53cdb2fc8bc7dce0b...|b0830fb4747a6c6d2...|   delivered|     2018-07-24 20:41:37|2018-07-26 03:24:27|         2018-07-26 14:31:00|          2018-08-07 15:27:45|          2018-08-13 00:00:00|\n",
      "|47770eb9100c2d0c4...|41ce2a54c0b03bf34...|   delivered|     2018-08-08 08:38:49|2018-08-08 08:55:23|         2018-08-08 13:50:00|          2018-08-17 18:06:29|          2018-09-04 00:00:00|\n",
      "|949d5b44dbf5de918...|f88197465ea7920ad...|   delivered|     2017-11-18 19:28:06|2017-11-18 19:45:59|         2017-11-22 13:39:59|          2017-12-02 00:28:42|          2017-12-15 00:00:00|\n",
      "|ad21c59c0840e6cb8...|8ab97904e6daea886...|   delivered|     2018-02-13 21:18:39|2018-02-13 22:20:29|         2018-02-14 19:46:34|          2018-02-16 18:17:02|          2018-02-26 00:00:00|\n",
      "+--------------------+--------------------+------------+------------------------+-------------------+----------------------------+-----------------------------+-----------------------------+\n",
      "only showing top 5 rows\n",
      "\n"
     ]
    }
   ],
   "source": [
    "dfOrders.show(5)"
   ]
  },
  {
   "cell_type": "code",
   "execution_count": 10,
   "metadata": {
    "collapsed": false
   },
   "outputs": [
    {
     "name": "stdout",
     "output_type": "stream",
     "text": [
      "+--------------------+------------------+------------+--------------------+-------------+\n",
      "|            order_id|payment_sequential|payment_type|payment_installments|payment_value|\n",
      "+--------------------+------------------+------------+--------------------+-------------+\n",
      "|b81ef226f3fe1789b...|                 1| credit_card|                   8|        99.33|\n",
      "|a9810da82917af2d9...|                 1| credit_card|                   1|        24.39|\n",
      "|25e8ea4e93396b6fa...|                 1| credit_card|                   1|        65.71|\n",
      "|ba78997921bbcdc13...|                 1| credit_card|                   8|       107.78|\n",
      "|42fdf880ba16b47b5...|                 1| credit_card|                   2|       128.45|\n",
      "+--------------------+------------------+------------+--------------------+-------------+\n",
      "only showing top 5 rows\n",
      "\n"
     ]
    }
   ],
   "source": [
    "dfOrdersPayment.show(5)"
   ]
  },
  {
   "cell_type": "code",
   "execution_count": 11,
   "metadata": {
    "collapsed": false
   },
   "outputs": [],
   "source": [
    "#Joining Orders and Payments data set on OderId - Master Data\n",
    "df = dfOrders.join(dfOrdersPayment,on='order_id',how='inner')"
   ]
  },
  {
   "cell_type": "code",
   "execution_count": 12,
   "metadata": {
    "collapsed": false
   },
   "outputs": [
    {
     "data": {
      "text/plain": [
       "103886"
      ]
     },
     "execution_count": 12,
     "metadata": {},
     "output_type": "execute_result"
    }
   ],
   "source": [
    "df.count()"
   ]
  },
  {
   "cell_type": "code",
   "execution_count": 13,
   "metadata": {
    "collapsed": false
   },
   "outputs": [
    {
     "data": {
      "text/plain": [
       "99440"
      ]
     },
     "execution_count": 13,
     "metadata": {},
     "output_type": "execute_result"
    }
   ],
   "source": [
    "#Computing Distinct Orders by Order Ids\n",
    "df.select('order_id').distinct().count()"
   ]
  },
  {
   "cell_type": "code",
   "execution_count": 159,
   "metadata": {
    "collapsed": false
   },
   "outputs": [],
   "source": [
    "#Computing Order's Frequency\n",
    "orderFrequency = df.groupBy('order_id').count().orderBy('count', ascending = False).select('count')"
   ]
  },
  {
   "cell_type": "code",
   "execution_count": 15,
   "metadata": {
    "collapsed": false
   },
   "outputs": [
    {
     "data": {
      "text/plain": [
       "pyspark.sql.dataframe.DataFrame"
      ]
     },
     "execution_count": 15,
     "metadata": {},
     "output_type": "execute_result"
    }
   ],
   "source": [
    "type(orderFrequency)"
   ]
  },
  {
   "cell_type": "code",
   "execution_count": 16,
   "metadata": {
    "collapsed": false
   },
   "outputs": [],
   "source": [
    "data = orderFrequency.collect()"
   ]
  },
  {
   "cell_type": "code",
   "execution_count": 18,
   "metadata": {
    "collapsed": false
   },
   "outputs": [],
   "source": [
    "#Dropping unnecessary Columns in Master Data\n",
    "df = df.drop(\"order_delivered_carrier_date\",\"order_approved_at\",\"order_delivered_customer_date\",\"order_estimated_delivery_date\",\"payment_installments\",\"payment_sequential\")"
   ]
  },
  {
   "cell_type": "code",
   "execution_count": 19,
   "metadata": {
    "collapsed": true
   },
   "outputs": [],
   "source": [
    "#Defining Order Frequency by Unique Customers\n",
    "custumerOrdersCount = df.select(\"customer_id\").groupby(\"customer_id\").count().orderBy(\"count\",ascending=False)"
   ]
  },
  {
   "cell_type": "code",
   "execution_count": 20,
   "metadata": {
    "collapsed": true
   },
   "outputs": [],
   "source": [
    "#Defining Max. Payment value by customers\n",
    "custumerOrdersPayment = df.groupby(\"customer_id\").max(\"payment_value\")"
   ]
  },
  {
   "cell_type": "code",
   "execution_count": 21,
   "metadata": {
    "collapsed": true
   },
   "outputs": [],
   "source": [
    "joinResult = custumerOrdersCount.join(custumerOrdersPayment, on =\"customer_id\", how=\"inner\")"
   ]
  },
  {
   "cell_type": "code",
   "execution_count": 22,
   "metadata": {
    "collapsed": true
   },
   "outputs": [],
   "source": [
    "#Storing Order Count and Corresponding Frequency\n",
    "joinResult=joinResult.withColumnRenamed('count','frequency')"
   ]
  },
  {
   "cell_type": "code",
   "execution_count": 23,
   "metadata": {
    "collapsed": false
   },
   "outputs": [
    {
     "name": "stdout",
     "output_type": "stream",
     "text": [
      "+--------------------+-------------------+\n",
      "|         customer_id|         time_stamp|\n",
      "+--------------------+-------------------+\n",
      "|f54a9f0e6b351c431...|2017-01-23 18:29:09|\n",
      "|2a1dfb647f32f4390...|2018-06-01 12:23:13|\n",
      "|4f28355e5c17a4a42...|2017-05-18 13:55:47|\n",
      "|4632eb5a8f175f6fe...|2017-11-30 22:02:15|\n",
      "|843ff05b30ce4f75b...|2017-11-13 10:07:36|\n",
      "|a4156bb8aff5d6722...|2017-09-26 11:08:38|\n",
      "|1099d033c74a027a7...|2018-01-27 22:09:48|\n",
      "|7a3bd3b37285f0ab2...|2017-03-09 16:43:40|\n",
      "|5fff39f1b59dc4d2f...|2017-05-01 19:13:37|\n",
      "|18f6ca10777417c93...|2018-01-18 14:40:57|\n",
      "|f1e46939e6408b3e6...|2017-06-01 14:58:11|\n",
      "|a8695124db570d100...|2017-11-22 16:56:05|\n",
      "|545b9a267af9ba134...|2018-02-14 10:48:33|\n",
      "|90d7075599361b694...|2017-07-28 17:03:33|\n",
      "|a340ce6c3570e68d4...|2018-04-18 14:29:17|\n",
      "|ce0681e1c3f70e145...|2017-12-19 16:58:22|\n",
      "|ee905ec97794ec6e9...|2017-06-18 17:55:19|\n",
      "|b74ca180d63f9ae04...|2018-01-30 09:43:45|\n",
      "|0de46efc7d10114ac...|2017-03-23 13:25:32|\n",
      "|8bdae6b4ff9bc7f4c...|2017-11-24 23:30:13|\n",
      "+--------------------+-------------------+\n",
      "only showing top 20 rows\n",
      "\n"
     ]
    }
   ],
   "source": [
    "import numpy as np\n",
    "import datetime\n",
    "from pyspark.sql.functions import year, month, dayofmonth\n",
    "\n",
    "#Computing Recency across each customer - Considering Recent order placed/delivered to a Customer\n",
    "df = df.withColumn(\"order_purchase_timestamp\",df[\"order_purchase_timestamp\"].cast(\"double\"))\n",
    "OrderRecent = df.groupBy(\"customer_id\").max(\"order_purchase_timestamp\")\n",
    "OrderRecent=OrderRecent.withColumn(\"max(order_purchase_timestamp)\",OrderRecent[\"max(order_purchase_timestamp)\"].cast(\"timestamp\"))\n",
    "OrderRecent = OrderRecent.withColumnRenamed(\"max(order_purchase_timestamp)\",\"time_stamp\")\n",
    "OrderRecent.show()"
   ]
  },
  {
   "cell_type": "code",
   "execution_count": 23,
   "metadata": {
    "collapsed": false
   },
   "outputs": [
    {
     "name": "stdout",
     "output_type": "stream",
     "text": [
      "root\n",
      " |-- customer_id: string (nullable = true)\n",
      " |-- time_stamp: timestamp (nullable = true)\n",
      "\n"
     ]
    }
   ],
   "source": [
    "OrderRecent.printSchema()"
   ]
  },
  {
   "cell_type": "code",
   "execution_count": 24,
   "metadata": {
    "collapsed": false
   },
   "outputs": [
    {
     "name": "stdout",
     "output_type": "stream",
     "text": [
      "root\n",
      " |-- customer_id: string (nullable = true)\n",
      " |-- frequency: long (nullable = false)\n",
      " |-- max(payment_value): double (nullable = true)\n",
      "\n"
     ]
    }
   ],
   "source": [
    "joinResult.printSchema()"
   ]
  },
  {
   "cell_type": "code",
   "execution_count": 25,
   "metadata": {
    "collapsed": false
   },
   "outputs": [],
   "source": [
    "#Combining Frequency, Recency and Monetary attributes computed above \n",
    "finalDf = joinResult.join(OrderRecent, on = 'customer_id')"
   ]
  },
  {
   "cell_type": "code",
   "execution_count": 26,
   "metadata": {
    "collapsed": false
   },
   "outputs": [
    {
     "name": "stdout",
     "output_type": "stream",
     "text": [
      "root\n",
      " |-- customer_id: string (nullable = true)\n",
      " |-- frequency: long (nullable = false)\n",
      " |-- max(payment_value): double (nullable = true)\n",
      " |-- time_stamp: timestamp (nullable = true)\n",
      "\n"
     ]
    }
   ],
   "source": [
    "finalDf.printSchema()"
   ]
  },
  {
   "cell_type": "code",
   "execution_count": 27,
   "metadata": {
    "collapsed": false
   },
   "outputs": [],
   "source": [
    "finalDf = finalDf.withColumnRenamed('max(payment_value)','monetary')\n",
    "finalDf = finalDf.withColumnRenamed('time_stamp','recency')"
   ]
  },
  {
   "cell_type": "code",
   "execution_count": 28,
   "metadata": {
    "collapsed": false
   },
   "outputs": [
    {
     "name": "stdout",
     "output_type": "stream",
     "text": [
      "root\n",
      " |-- customer_id: string (nullable = true)\n",
      " |-- frequency: long (nullable = false)\n",
      " |-- monetary: double (nullable = true)\n",
      " |-- recency: timestamp (nullable = true)\n",
      "\n"
     ]
    }
   ],
   "source": [
    "#Collated Frequency, Recemcy and Monetary values across each customer on Customer ID\n",
    "finalDf.printSchema()"
   ]
  },
  {
   "cell_type": "code",
   "execution_count": 27,
   "metadata": {
    "collapsed": true
   },
   "outputs": [],
   "source": [
    "from pyspark.ml.clustering import KMeans, KMeansModel\n",
    "from pyspark.mllib.linalg import Vectors"
   ]
  },
  {
   "cell_type": "code",
   "execution_count": 30,
   "metadata": {
    "collapsed": false
   },
   "outputs": [
    {
     "name": "stdout",
     "output_type": "stream",
     "text": [
      "+-------------------+\n",
      "|            recency|\n",
      "+-------------------+\n",
      "|2017-11-29 00:11:03|\n",
      "+-------------------+\n",
      "only showing top 1 row\n",
      "\n"
     ]
    }
   ],
   "source": [
    "finalDf.select('recency').show(1)"
   ]
  },
  {
   "cell_type": "code",
   "execution_count": 31,
   "metadata": {
    "collapsed": false
   },
   "outputs": [
    {
     "data": {
      "text/plain": [
       "DataFrame[customer_id: string, frequency: bigint, monetary: double, recency: timestamp]"
      ]
     },
     "execution_count": 31,
     "metadata": {},
     "output_type": "execute_result"
    }
   ],
   "source": [
    "finalDf"
   ]
  },
  {
   "cell_type": "code",
   "execution_count": 32,
   "metadata": {
    "collapsed": false
   },
   "outputs": [
    {
     "data": {
      "text/plain": [
       "Row(customer_id=u'01d190d14b00073f76e0a5ec46166352', frequency=1, monetary=258.74, recency=datetime.datetime(2017, 11, 29, 0, 11, 3))"
      ]
     },
     "execution_count": 32,
     "metadata": {},
     "output_type": "execute_result"
    }
   ],
   "source": [
    "finalDf.head()"
   ]
  },
  {
   "cell_type": "code",
   "execution_count": 41,
   "metadata": {
    "collapsed": false
   },
   "outputs": [],
   "source": [
    "#Defining a Function which will calculate the time difference between recent purchase \n",
    "#time and Epoch Time (00:00:00 Thursday, 1 January 1970) and scaling it down by divinding 100 \n",
    "\n",
    "def returnEpoch(dt):\n",
    "    return ((dt - datetime.datetime(1970, 1, 1,0,0,0)).total_seconds())/(604800*100)\n",
    "def returnRows(x):\n",
    "    return float(x[1]),float(x[2]),float(returnEpoch(x[3])),str(x[0])"
   ]
  },
  {
   "cell_type": "code",
   "execution_count": 42,
   "metadata": {
    "collapsed": false
   },
   "outputs": [],
   "source": [
    "finalDfrdd = finalDf.rdd.map(lambda x: returnRows(x))"
   ]
  },
  {
   "cell_type": "code",
   "execution_count": 43,
   "metadata": {
    "collapsed": false
   },
   "outputs": [
    {
     "data": {
      "text/plain": [
       "[(1.0, 258.74, 24.998582390873015, '01d190d14b00073f76e0a5ec46166352'),\n",
       " (1.0, 198.1, 25.28519419642857, '03a7750fc7a7bfbd7a84b2f4f26b92f1'),\n",
       " (1.0, 265.04, 25.205229894179894, '04495037fc6899faffa41ba3bc4272b4')]"
      ]
     },
     "execution_count": 43,
     "metadata": {},
     "output_type": "execute_result"
    }
   ],
   "source": [
    "finalDfrdd.take(3)"
   ]
  },
  {
   "cell_type": "code",
   "execution_count": 44,
   "metadata": {
    "collapsed": false
   },
   "outputs": [],
   "source": [
    "#Converting RDD to DF\n",
    "finalDf = finalDfrdd.toDF()"
   ]
  },
  {
   "cell_type": "code",
   "execution_count": 45,
   "metadata": {
    "collapsed": false
   },
   "outputs": [
    {
     "name": "stdout",
     "output_type": "stream",
     "text": [
      "+---+------+------------------+--------------------+\n",
      "| _1|    _2|                _3|                  _4|\n",
      "+---+------+------------------+--------------------+\n",
      "|1.0|258.74|24.998582390873015|01d190d14b00073f7...|\n",
      "+---+------+------------------+--------------------+\n",
      "only showing top 1 row\n",
      "\n"
     ]
    }
   ],
   "source": [
    "finalDf.show(1)"
   ]
  },
  {
   "cell_type": "code",
   "execution_count": 46,
   "metadata": {
    "collapsed": true
   },
   "outputs": [],
   "source": [
    "finalDf = finalDf.withColumnRenamed('_1','frequency')\n",
    "finalDf = finalDf.withColumnRenamed('_2','monetary')\n",
    "finalDf = finalDf.withColumnRenamed('_3','recency')\n",
    "finalDf = finalDf.withColumnRenamed('_4','customer_id')"
   ]
  },
  {
   "cell_type": "code",
   "execution_count": 47,
   "metadata": {
    "collapsed": false
   },
   "outputs": [
    {
     "data": {
      "text/plain": [
       "Row(frequency=1.0, monetary=258.74, recency=24.998582390873015, customer_id=u'01d190d14b00073f76e0a5ec46166352')"
      ]
     },
     "execution_count": 47,
     "metadata": {},
     "output_type": "execute_result"
    }
   ],
   "source": [
    "finalDf.head()"
   ]
  },
  {
   "cell_type": "code",
   "execution_count": 48,
   "metadata": {
    "collapsed": false
   },
   "outputs": [
    {
     "name": "stdout",
     "output_type": "stream",
     "text": [
      "+-------+------------------+------------------+------------------+--------------------+\n",
      "|summary|         frequency|          monetary|           recency|         customer_id|\n",
      "+-------+------------------+------------------+------------------+--------------------+\n",
      "|  count|             99440|             99440|             99440|               99440|\n",
      "|   mean|1.0447103781174578|159.47379143201914| 25.04481155404425|                null|\n",
      "| stddev|0.3811656306568635|220.36965405933074|0.2195181220522018|                null|\n",
      "|    min|               1.0|               0.0|24.355550909391535|00012a2ce6f8dcda2...|\n",
      "|    max|              29.0|          13664.08|25.459613392857143|ffffe8b65bbe3087b...|\n",
      "+-------+------------------+------------------+------------------+--------------------+\n",
      "\n"
     ]
    }
   ],
   "source": [
    "finalDf.describe().show()"
   ]
  },
  {
   "cell_type": "code",
   "execution_count": 49,
   "metadata": {
    "collapsed": true
   },
   "outputs": [],
   "source": [
    "#Selecting Parameters for running K-Means Clustering algorithms\n",
    "clusterData = finalDf.select('frequency','monetary','recency')"
   ]
  },
  {
   "cell_type": "code",
   "execution_count": 51,
   "metadata": {
    "collapsed": false
   },
   "outputs": [
    {
     "data": {
      "text/plain": [
       "Row(frequency=1.0, monetary=258.74, recency=24.998582390873015)"
      ]
     },
     "execution_count": 51,
     "metadata": {},
     "output_type": "execute_result"
    }
   ],
   "source": [
    "clusterData.head()"
   ]
  },
  {
   "cell_type": "markdown",
   "metadata": {},
   "source": [
    "# Data Pipeline"
   ]
  },
  {
   "cell_type": "code",
   "execution_count": 52,
   "metadata": {
    "collapsed": true
   },
   "outputs": [],
   "source": [
    "from pyspark.ml.linalg import Vectors\n",
    "from pyspark.ml.feature import VectorAssembler"
   ]
  },
  {
   "cell_type": "code",
   "execution_count": 53,
   "metadata": {
    "collapsed": false
   },
   "outputs": [
    {
     "data": {
      "text/plain": [
       "['frequency', 'monetary', 'recency']"
      ]
     },
     "execution_count": 53,
     "metadata": {},
     "output_type": "execute_result"
    }
   ],
   "source": [
    "clusterData.columns"
   ]
  },
  {
   "cell_type": "code",
   "execution_count": 54,
   "metadata": {
    "collapsed": true
   },
   "outputs": [],
   "source": [
    "vec_assembler = VectorAssembler(inputCols = clusterData.columns, outputCol='features')"
   ]
  },
  {
   "cell_type": "code",
   "execution_count": 55,
   "metadata": {
    "collapsed": false
   },
   "outputs": [],
   "source": [
    "final_data = vec_assembler.transform(clusterData)"
   ]
  },
  {
   "cell_type": "code",
   "execution_count": 56,
   "metadata": {
    "collapsed": false
   },
   "outputs": [
    {
     "data": {
      "text/plain": [
       "Row(frequency=1.0, monetary=258.74, recency=24.998582390873015, features=DenseVector([1.0, 258.74, 24.9986]))"
      ]
     },
     "execution_count": 56,
     "metadata": {},
     "output_type": "execute_result"
    }
   ],
   "source": [
    "final_data.head()"
   ]
  },
  {
   "cell_type": "code",
   "execution_count": 114,
   "metadata": {
    "collapsed": false
   },
   "outputs": [
    {
     "data": {
      "text/plain": [
       "pyspark.sql.dataframe.DataFrame"
      ]
     },
     "execution_count": 114,
     "metadata": {},
     "output_type": "execute_result"
    }
   ],
   "source": [
    "type(final_data)"
   ]
  },
  {
   "cell_type": "markdown",
   "metadata": {
    "collapsed": false
   },
   "source": [
    "# Scaling Features"
   ]
  },
  {
   "cell_type": "code",
   "execution_count": 58,
   "metadata": {
    "collapsed": true
   },
   "outputs": [],
   "source": [
    "from pyspark.ml.feature import StandardScaler\n",
    "scaler = StandardScaler(inputCol=\"features\", outputCol=\"scaledFeatures\", withStd=True, withMean=False)"
   ]
  },
  {
   "cell_type": "code",
   "execution_count": 59,
   "metadata": {
    "collapsed": true
   },
   "outputs": [],
   "source": [
    "# Compute summary statistics by fitting the StandardScaler\n",
    "scalerModel = scaler.fit(final_data)"
   ]
  },
  {
   "cell_type": "code",
   "execution_count": 118,
   "metadata": {
    "collapsed": true
   },
   "outputs": [
    {
     "ename": "IllegalArgumentException",
     "evalue": "u'requirement failed: Output column scaledFeatures already exists.'",
     "output_type": "error",
     "traceback": [
      "\u001b[0;31m---------------------------------------------------------------------------\u001b[0m",
      "\u001b[0;31mIllegalArgumentException\u001b[0m                  Traceback (most recent call last)",
      "\u001b[0;32m<ipython-input-118-4b39d152983c>\u001b[0m in \u001b[0;36m<module>\u001b[0;34m()\u001b[0m\n\u001b[1;32m      1\u001b[0m \u001b[0;31m# Normalize each feature to have unit standard deviation.\u001b[0m\u001b[0;34m\u001b[0m\u001b[0;34m\u001b[0m\u001b[0m\n\u001b[0;32m----> 2\u001b[0;31m \u001b[0mfinal_data1\u001b[0m \u001b[0;34m=\u001b[0m \u001b[0mscalerModel\u001b[0m\u001b[0;34m.\u001b[0m\u001b[0mtransform\u001b[0m\u001b[0;34m(\u001b[0m\u001b[0mfinal_data\u001b[0m\u001b[0;34m)\u001b[0m\u001b[0;34m\u001b[0m\u001b[0m\n\u001b[0m",
      "\u001b[0;32m/usr/lib/spark/python/pyspark/ml/base.pyc\u001b[0m in \u001b[0;36mtransform\u001b[0;34m(self, dataset, params)\u001b[0m\n\u001b[1;32m    171\u001b[0m                 \u001b[0;32mreturn\u001b[0m \u001b[0mself\u001b[0m\u001b[0;34m.\u001b[0m\u001b[0mcopy\u001b[0m\u001b[0;34m(\u001b[0m\u001b[0mparams\u001b[0m\u001b[0;34m)\u001b[0m\u001b[0;34m.\u001b[0m\u001b[0m_transform\u001b[0m\u001b[0;34m(\u001b[0m\u001b[0mdataset\u001b[0m\u001b[0;34m)\u001b[0m\u001b[0;34m\u001b[0m\u001b[0m\n\u001b[1;32m    172\u001b[0m             \u001b[0;32melse\u001b[0m\u001b[0;34m:\u001b[0m\u001b[0;34m\u001b[0m\u001b[0m\n\u001b[0;32m--> 173\u001b[0;31m                 \u001b[0;32mreturn\u001b[0m \u001b[0mself\u001b[0m\u001b[0;34m.\u001b[0m\u001b[0m_transform\u001b[0m\u001b[0;34m(\u001b[0m\u001b[0mdataset\u001b[0m\u001b[0;34m)\u001b[0m\u001b[0;34m\u001b[0m\u001b[0m\n\u001b[0m\u001b[1;32m    174\u001b[0m         \u001b[0;32melse\u001b[0m\u001b[0;34m:\u001b[0m\u001b[0;34m\u001b[0m\u001b[0m\n\u001b[1;32m    175\u001b[0m             \u001b[0;32mraise\u001b[0m \u001b[0mValueError\u001b[0m\u001b[0;34m(\u001b[0m\u001b[0;34m\"Params must be a param map but got %s.\"\u001b[0m \u001b[0;34m%\u001b[0m \u001b[0mtype\u001b[0m\u001b[0;34m(\u001b[0m\u001b[0mparams\u001b[0m\u001b[0;34m)\u001b[0m\u001b[0;34m)\u001b[0m\u001b[0;34m\u001b[0m\u001b[0m\n",
      "\u001b[0;32m/usr/lib/spark/python/pyspark/ml/wrapper.pyc\u001b[0m in \u001b[0;36m_transform\u001b[0;34m(self, dataset)\u001b[0m\n\u001b[1;32m    310\u001b[0m     \u001b[0;32mdef\u001b[0m \u001b[0m_transform\u001b[0m\u001b[0;34m(\u001b[0m\u001b[0mself\u001b[0m\u001b[0;34m,\u001b[0m \u001b[0mdataset\u001b[0m\u001b[0;34m)\u001b[0m\u001b[0;34m:\u001b[0m\u001b[0;34m\u001b[0m\u001b[0m\n\u001b[1;32m    311\u001b[0m         \u001b[0mself\u001b[0m\u001b[0;34m.\u001b[0m\u001b[0m_transfer_params_to_java\u001b[0m\u001b[0;34m(\u001b[0m\u001b[0;34m)\u001b[0m\u001b[0;34m\u001b[0m\u001b[0m\n\u001b[0;32m--> 312\u001b[0;31m         \u001b[0;32mreturn\u001b[0m \u001b[0mDataFrame\u001b[0m\u001b[0;34m(\u001b[0m\u001b[0mself\u001b[0m\u001b[0;34m.\u001b[0m\u001b[0m_java_obj\u001b[0m\u001b[0;34m.\u001b[0m\u001b[0mtransform\u001b[0m\u001b[0;34m(\u001b[0m\u001b[0mdataset\u001b[0m\u001b[0;34m.\u001b[0m\u001b[0m_jdf\u001b[0m\u001b[0;34m)\u001b[0m\u001b[0;34m,\u001b[0m \u001b[0mdataset\u001b[0m\u001b[0;34m.\u001b[0m\u001b[0msql_ctx\u001b[0m\u001b[0;34m)\u001b[0m\u001b[0;34m\u001b[0m\u001b[0m\n\u001b[0m\u001b[1;32m    313\u001b[0m \u001b[0;34m\u001b[0m\u001b[0m\n\u001b[1;32m    314\u001b[0m \u001b[0;34m\u001b[0m\u001b[0m\n",
      "\u001b[0;32m/usr/lib/spark/python/lib/py4j-0.10.7-src.zip/py4j/java_gateway.py\u001b[0m in \u001b[0;36m__call__\u001b[0;34m(self, *args)\u001b[0m\n\u001b[1;32m   1255\u001b[0m         \u001b[0manswer\u001b[0m \u001b[0;34m=\u001b[0m \u001b[0mself\u001b[0m\u001b[0;34m.\u001b[0m\u001b[0mgateway_client\u001b[0m\u001b[0;34m.\u001b[0m\u001b[0msend_command\u001b[0m\u001b[0;34m(\u001b[0m\u001b[0mcommand\u001b[0m\u001b[0;34m)\u001b[0m\u001b[0;34m\u001b[0m\u001b[0m\n\u001b[1;32m   1256\u001b[0m         return_value = get_return_value(\n\u001b[0;32m-> 1257\u001b[0;31m             answer, self.gateway_client, self.target_id, self.name)\n\u001b[0m\u001b[1;32m   1258\u001b[0m \u001b[0;34m\u001b[0m\u001b[0m\n\u001b[1;32m   1259\u001b[0m         \u001b[0;32mfor\u001b[0m \u001b[0mtemp_arg\u001b[0m \u001b[0;32min\u001b[0m \u001b[0mtemp_args\u001b[0m\u001b[0;34m:\u001b[0m\u001b[0;34m\u001b[0m\u001b[0m\n",
      "\u001b[0;32m/usr/lib/spark/python/pyspark/sql/utils.pyc\u001b[0m in \u001b[0;36mdeco\u001b[0;34m(*a, **kw)\u001b[0m\n\u001b[1;32m     77\u001b[0m                 \u001b[0;32mraise\u001b[0m \u001b[0mQueryExecutionException\u001b[0m\u001b[0;34m(\u001b[0m\u001b[0ms\u001b[0m\u001b[0;34m.\u001b[0m\u001b[0msplit\u001b[0m\u001b[0;34m(\u001b[0m\u001b[0;34m': '\u001b[0m\u001b[0;34m,\u001b[0m \u001b[0;36m1\u001b[0m\u001b[0;34m)\u001b[0m\u001b[0;34m[\u001b[0m\u001b[0;36m1\u001b[0m\u001b[0;34m]\u001b[0m\u001b[0;34m,\u001b[0m \u001b[0mstackTrace\u001b[0m\u001b[0;34m)\u001b[0m\u001b[0;34m\u001b[0m\u001b[0m\n\u001b[1;32m     78\u001b[0m             \u001b[0;32mif\u001b[0m \u001b[0ms\u001b[0m\u001b[0;34m.\u001b[0m\u001b[0mstartswith\u001b[0m\u001b[0;34m(\u001b[0m\u001b[0;34m'java.lang.IllegalArgumentException: '\u001b[0m\u001b[0;34m)\u001b[0m\u001b[0;34m:\u001b[0m\u001b[0;34m\u001b[0m\u001b[0m\n\u001b[0;32m---> 79\u001b[0;31m                 \u001b[0;32mraise\u001b[0m \u001b[0mIllegalArgumentException\u001b[0m\u001b[0;34m(\u001b[0m\u001b[0ms\u001b[0m\u001b[0;34m.\u001b[0m\u001b[0msplit\u001b[0m\u001b[0;34m(\u001b[0m\u001b[0;34m': '\u001b[0m\u001b[0;34m,\u001b[0m \u001b[0;36m1\u001b[0m\u001b[0;34m)\u001b[0m\u001b[0;34m[\u001b[0m\u001b[0;36m1\u001b[0m\u001b[0;34m]\u001b[0m\u001b[0;34m,\u001b[0m \u001b[0mstackTrace\u001b[0m\u001b[0;34m)\u001b[0m\u001b[0;34m\u001b[0m\u001b[0m\n\u001b[0m\u001b[1;32m     80\u001b[0m             \u001b[0;32mraise\u001b[0m\u001b[0;34m\u001b[0m\u001b[0m\n\u001b[1;32m     81\u001b[0m     \u001b[0;32mreturn\u001b[0m \u001b[0mdeco\u001b[0m\u001b[0;34m\u001b[0m\u001b[0m\n",
      "\u001b[0;31mIllegalArgumentException\u001b[0m: u'requirement failed: Output column scaledFeatures already exists.'"
     ]
    }
   ],
   "source": [
    "# Normalize each feature to have unit standard deviation.\n",
    "final_data = scalerModel.transform(final_data)"
   ]
  },
  {
   "cell_type": "code",
   "execution_count": 119,
   "metadata": {
    "collapsed": false
   },
   "outputs": [
    {
     "name": "stdout",
     "output_type": "stream",
     "text": [
      "+---------+--------+------------------+--------------------+--------------------+\n",
      "|frequency|monetary|           recency|            features|      scaledFeatures|\n",
      "+---------+--------+------------------+--------------------+--------------------+\n",
      "|      1.0|  258.74|24.998582390873015|[1.0,258.74,24.99...|[2.62353139834957...|\n",
      "|      1.0|   198.1| 25.28519419642857|[1.0,198.1,25.285...|[2.62353139834957...|\n",
      "+---------+--------+------------------+--------------------+--------------------+\n",
      "only showing top 2 rows\n",
      "\n"
     ]
    }
   ],
   "source": [
    "final_data.show(2)"
   ]
  },
  {
   "cell_type": "markdown",
   "metadata": {},
   "source": [
    "# K-Means Cluster and Evaluation "
   ]
  },
  {
   "cell_type": "code",
   "execution_count": 65,
   "metadata": {
    "collapsed": false
   },
   "outputs": [
    {
     "data": {
      "text/plain": [
       "[Row(frequency=1.0, monetary=258.74, recency=24.998582390873015, features=DenseVector([1.0, 258.74, 24.9986]), scaledFeatures=DenseVector([2.6235, 1.1741, 113.8794])),\n",
       " Row(frequency=1.0, monetary=198.1, recency=25.28519419642857, features=DenseVector([1.0, 198.1, 25.2852]), scaledFeatures=DenseVector([2.6235, 0.8989, 115.185])),\n",
       " Row(frequency=1.0, monetary=265.04, recency=25.205229894179894, features=DenseVector([1.0, 265.04, 25.2052]), scaledFeatures=DenseVector([2.6235, 1.2027, 114.8207]))]"
      ]
     },
     "execution_count": 65,
     "metadata": {},
     "output_type": "execute_result"
    }
   ],
   "source": [
    "#final_data.take(3)"
   ]
  },
  {
   "cell_type": "code",
   "execution_count": 167,
   "metadata": {
    "collapsed": true
   },
   "outputs": [],
   "source": [
    "#Defining a function that would compute Clusters, Within Sum squared errors and store them\n",
    "cp=0\n",
    "kdict = {}\n",
    "def elbowDict(n):\n",
    "    k = 2\n",
    "    cp=0\n",
    "    while(k < n):\n",
    "        kmeans = KMeans(featuresCol='scaledFeatures',k=k)\n",
    "        model = kmeans.fit(final_data)\n",
    "        wssse = model.computeCost(final_data)\n",
    "        kdict[k] = wssse\n",
    "        k = k + 1\n",
    "        cp=cp+1\n",
    "        print(cp)"
   ]
  },
  {
   "cell_type": "code",
   "execution_count": 168,
   "metadata": {
    "collapsed": false
   },
   "outputs": [
    {
     "name": "stdout",
     "output_type": "stream",
     "text": [
      "1\n",
      "2\n",
      "3\n",
      "4\n",
      "5\n",
      "6\n",
      "7\n",
      "8\n",
      "9\n",
      "10\n",
      "11\n"
     ]
    }
   ],
   "source": [
    "elbowDict(13)"
   ]
  },
  {
   "cell_type": "code",
   "execution_count": 169,
   "metadata": {
    "collapsed": false
   },
   "outputs": [
    {
     "data": {
      "image/png": "[encoded data removed]",
      "text/plain": [
       "<matplotlib.figure.Figure at 0x7fad35edbf90>"
      ]
     },
     "metadata": {},
     "output_type": "display_data"
    }
   ],
   "source": [
    "plt.scatter(kdict.keys(),kdict.values())\n",
    "plt.title(\"K versus WSSSE\")\n",
    "plt.xlabel('Number of Clusters')\n",
    "plt.ylabel('Within Set Sum of Squared')\n",
    "plt.show()"
   ]
  },
  {
   "cell_type": "code",
   "execution_count": null,
   "metadata": {
    "collapsed": true
   },
   "outputs": [],
   "source": [
    "#WSSSE across cluster\n",
    "print(kdict.keys(),kdict.values())"
   ]
  },
  {
   "cell_type": "code",
   "execution_count": 140,
   "metadata": {
    "collapsed": true
   },
   "outputs": [],
   "source": [
    "# Trains a k-means models at K = 9 as per above \n",
    "kmeans = KMeans(featuresCol='scaledFeatures',k=9)\n",
    "model = kmeans.fit(final_data)"
   ]
  },
  {
   "cell_type": "code",
   "execution_count": 141,
   "metadata": {
    "collapsed": false
   },
   "outputs": [
    {
     "name": "stdout",
     "output_type": "stream",
     "text": [
      "Within Set Sum of Squared Errors = 54206.4997857\n"
     ]
    }
   ],
   "source": [
    "# Evaluate clustering by computing Within Set Sum of Squared Errors.\n",
    "wssse = model.computeCost(final_data)\n",
    "print(\"Within Set Sum of Squared Errors = \" + str(wssse))"
   ]
  },
  {
   "cell_type": "code",
   "execution_count": 143,
   "metadata": {
    "collapsed": false
   },
   "outputs": [
    {
     "name": "stdout",
     "output_type": "stream",
     "text": [
      "+----------+-----+\n",
      "|prediction|count|\n",
      "+----------+-----+\n",
      "|         1| 4283|\n",
      "|         6|    6|\n",
      "|         3|   37|\n",
      "|         5|34900|\n",
      "|         4|  235|\n",
      "|         8| 2631|\n",
      "|         7|  491|\n",
      "|         2|22106|\n",
      "|         0|34751|\n",
      "+----------+-----+\n",
      "\n"
     ]
    }
   ],
   "source": [
    "#k1 = model.transform(final_data).filter('prediction = 2').count()\n",
    "k9 = model.transform(final_data).groupBy('prediction').count().show()"
   ]
  },
  {
   "cell_type": "code",
   "execution_count": 147,
   "metadata": {
    "collapsed": false
   },
   "outputs": [
    {
     "data": {
      "text/plain": [
       "[array([   2.6235314 ,    0.57176185,  115.09242665]),\n",
       " array([   2.64929439,    3.31078659,  114.15745278]),\n",
       " array([   2.6235314 ,    0.57271441,  112.66677659]),\n",
       " array([  29.21337665,    0.23220198,  113.39929553]),\n",
       " array([  13.30744437,    0.22238707,  113.90834878]),\n",
       " array([   2.6235314 ,    0.55199951,  113.99526515]),\n",
       " array([  59.4667117 ,    0.17984176,  113.0481498 ]),\n",
       " array([   2.67718235,    9.68971165,  114.08955612]),\n",
       " array([   5.54720835,    0.45681067,  113.9595196 ])]"
      ]
     },
     "execution_count": 147,
     "metadata": {},
     "output_type": "execute_result"
    }
   ],
   "source": [
    "model.clusterCenters()"
   ]
  },
  {
   "cell_type": "code",
   "execution_count": 148,
   "metadata": {
    "collapsed": false
   },
   "outputs": [],
   "source": [
    "k9 = model.transform(final_data)"
   ]
  },
  {
   "cell_type": "code",
   "execution_count": 149,
   "metadata": {
    "collapsed": false
   },
   "outputs": [
    {
     "data": {
      "text/plain": [
       "['frequency',\n",
       " 'monetary',\n",
       " 'recency',\n",
       " 'features',\n",
       " 'scaledFeatures',\n",
       " 'prediction']"
      ]
     },
     "execution_count": 149,
     "metadata": {},
     "output_type": "execute_result"
    }
   ],
   "source": [
    "columns = k9.columns; columns"
   ]
  },
  {
   "cell_type": "code",
   "execution_count": 150,
   "metadata": {
    "collapsed": true
   },
   "outputs": [],
   "source": [
    "#def parsedK(x):\n",
    "  # return (float(x[0]),float(x[1]),float(x[2]),int(x[5]))"
   ]
  },
  {
   "cell_type": "code",
   "execution_count": 151,
   "metadata": {
    "collapsed": false
   },
   "outputs": [],
   "source": [
    "k9 = k9.rdd.map(lambda x: parsedK(x))"
   ]
  },
  {
   "cell_type": "code",
   "execution_count": 152,
   "metadata": {
    "collapsed": false
   },
   "outputs": [
    {
     "data": {
      "text/plain": [
       "[(1.0, 258.74, 24.998582390873015, 5),\n",
       " (1.0, 198.1, 25.28519419642857, 0),\n",
       " (1.0, 265.04, 25.205229894179894, 0),\n",
       " (1.0, 372.56, 24.66654138558201, 2)]"
      ]
     },
     "execution_count": 152,
     "metadata": {},
     "output_type": "execute_result"
    }
   ],
   "source": [
    "k9.take(4)"
   ]
  },
  {
   "cell_type": "code",
   "execution_count": 153,
   "metadata": {
    "collapsed": true
   },
   "outputs": [],
   "source": [
    "k9 = k9.toDF()"
   ]
  },
  {
   "cell_type": "code",
   "execution_count": 155,
   "metadata": {
    "collapsed": false
   },
   "outputs": [
    {
     "name": "stdout",
     "output_type": "stream",
     "text": [
      "+---+------+------------------+---+\n",
      "| _1|    _2|                _3| _4|\n",
      "+---+------+------------------+---+\n",
      "|1.0|258.74|24.998582390873015|  5|\n",
      "|1.0| 198.1| 25.28519419642857|  0|\n",
      "|1.0|265.04|25.205229894179894|  0|\n",
      "|1.0|372.56| 24.66654138558201|  2|\n",
      "|1.0|340.72| 25.28104353505291|  0|\n",
      "+---+------+------------------+---+\n",
      "only showing top 5 rows\n",
      "\n"
     ]
    }
   ],
   "source": [
    "k9.show(5)"
   ]
  },
  {
   "cell_type": "code",
   "execution_count": 156,
   "metadata": {
    "collapsed": true
   },
   "outputs": [],
   "source": [
    "k9 = k9.withColumnRenamed('_1', 'frequency')\n",
    "k9 = k9.withColumnRenamed('_2', 'monetary')\n",
    "k9 = k9.withColumnRenamed('_3', 'recency')\n",
    "k9 = k9.withColumnRenamed('_4', 'prediction')"
   ]
  },
  {
   "cell_type": "markdown",
   "metadata": {},
   "source": [
    "# Cluster 0 - 'The One Timers'"
   ]
  },
  {
   "cell_type": "code",
   "execution_count": 157,
   "metadata": {
    "collapsed": false
   },
   "outputs": [
    {
     "name": "stdout",
     "output_type": "stream",
     "text": [
      "+-------+---------+------------------+-------------------+----------+\n",
      "|summary|frequency|          monetary|            recency|prediction|\n",
      "+-------+---------+------------------+-------------------+----------+\n",
      "|  count|    34751|             34751|              34751|     34751|\n",
      "|   mean|      1.0|125.94268567811002| 25.264942048610585|       0.0|\n",
      "| stddev|      0.0| 86.92686337949276|0.07144365351539089|       0.0|\n",
      "|    min|      1.0|               0.0|  25.13985246362434|         0|\n",
      "|    25%|      1.0|             61.23|  25.20343576388889|         0|\n",
      "|    50%|      1.0|            102.94| 25.264124619708994|         0|\n",
      "|    75%|      1.0|            166.44|   25.3324072255291|         0|\n",
      "|    max|      1.0|            497.25| 25.459613392857143|         0|\n",
      "+-------+---------+------------------+-------------------+----------+\n",
      "\n"
     ]
    }
   ],
   "source": [
    "k9.filter('prediction = 0').summary().show()"
   ]
  },
  {
   "cell_type": "markdown",
   "metadata": {},
   "source": [
    "# Cluster 1 = Recent and Moderate valued customers"
   ]
  },
  {
   "cell_type": "code",
   "execution_count": 166,
   "metadata": {
    "collapsed": false
   },
   "outputs": [
    {
     "name": "stdout",
     "output_type": "stream",
     "text": [
      "+-------+-------------------+------------------+-------------------+----------+\n",
      "|summary|          frequency|          monetary|            recency|prediction|\n",
      "+-------+-------------------+------------------+-------------------+----------+\n",
      "|  count|               4283|              4283|               4283|      4283|\n",
      "|   mean| 1.0098062106000467|  728.758615456456|  25.05977709523514|       1.0|\n",
      "| stddev|0.09855108562094252|242.82503242678845|0.20356920639532186|       0.0|\n",
      "|    min|                1.0|            420.62| 24.398299090608464|         1|\n",
      "|    25%|                1.0|            541.97| 24.926510201719577|         1|\n",
      "|    50%|                1.0|            658.29|  25.08705343915344|         1|\n",
      "|    75%|                1.0|            858.65| 25.221109738756613|         1|\n",
      "|    max|                2.0|           1432.92| 25.389422999338624|         1|\n",
      "+-------+-------------------+------------------+-------------------+----------+\n",
      "\n"
     ]
    }
   ],
   "source": [
    "k9.filter('prediction = 1').summary().show()"
   ]
  },
  {
   "cell_type": "code",
   "execution_count": 158,
   "metadata": {
    "collapsed": false
   },
   "outputs": [
    {
     "name": "stdout",
     "output_type": "stream",
     "text": [
      "+-------+---------+------------------+-------------------+----------+\n",
      "|summary|frequency|          monetary|            recency|prediction|\n",
      "+-------+---------+------------------+-------------------+----------+\n",
      "|  count|    22106|             22106|              22106|     22106|\n",
      "|   mean|      1.0|126.22891522663528| 24.732555358117445|       2.0|\n",
      "| stddev|      0.0|  93.5958979532493|0.09903772904699851|       0.0|\n",
      "|    min|      1.0|             11.62| 24.355550909391535|         2|\n",
      "|    25%|      1.0|             59.69| 24.659755886243385|         2|\n",
      "|    50%|      1.0|             98.88|  24.74274722222222|         2|\n",
      "|    75%|      1.0|            162.32| 24.816283597883597|         2|\n",
      "|    max|      1.0|            676.92| 24.882439732142856|         2|\n",
      "+-------+---------+------------------+-------------------+----------+\n",
      "\n"
     ]
    }
   ],
   "source": [
    "k9.filter('prediction = 2').summary().show()"
   ]
  },
  {
   "cell_type": "code",
   "execution_count": 160,
   "metadata": {
    "collapsed": false
   },
   "outputs": [
    {
     "name": "stdout",
     "output_type": "stream",
     "text": [
      "+-------+------------------+-----------------+-------------------+----------+\n",
      "|summary|         frequency|         monetary|            recency|prediction|\n",
      "+-------+------------------+-----------------+-------------------+----------+\n",
      "|  count|                37|               37|                 37|        37|\n",
      "|   mean|11.135135135135135|51.17027027027027| 24.893200395931643|       3.0|\n",
      "| stddev|1.7505897762081681|84.68218553596233|0.20878174643130534|       0.0|\n",
      "|    min|               9.0|             4.68| 24.563928191137567|         3|\n",
      "|    25%|              10.0|            15.67|  24.73655411706349|         3|\n",
      "|    50%|              11.0|            29.18| 24.824970238095236|         3|\n",
      "|    75%|              12.0|            54.03| 25.002523660714285|         3|\n",
      "|    max|              15.0|           455.86| 25.298495568783068|         3|\n",
      "+-------+------------------+-----------------+-------------------+----------+\n",
      "\n"
     ]
    }
   ],
   "source": [
    "k9.filter('prediction = 3').summary().show()"
   ]
  },
  {
   "cell_type": "code",
   "execution_count": 161,
   "metadata": {
    "collapsed": false
   },
   "outputs": [
    {
     "name": "stdout",
     "output_type": "stream",
     "text": [
      "+-------+-----------------+-----------------+-------------------+----------+\n",
      "|summary|        frequency|         monetary|            recency|prediction|\n",
      "+-------+-----------------+-----------------+-------------------+----------+\n",
      "|  count|              235|              235|                235|       235|\n",
      "|   mean|5.072340425531915|49.00736170212764|  25.00494681048071|       4.0|\n",
      "| stddev|1.229568426763568|61.91839956729704|0.22980833844390278|       0.0|\n",
      "|    min|              4.0|             4.34| 24.397939417989416|         4|\n",
      "|    25%|              4.0|            18.75| 24.815078406084655|         4|\n",
      "|    50%|              5.0|            27.39|  25.01095892857143|         4|\n",
      "|    75%|              6.0|            56.72|  25.20212476851852|         4|\n",
      "|    max|              8.0|           486.55| 25.382415922619046|         4|\n",
      "+-------+-----------------+-----------------+-------------------+----------+\n",
      "\n"
     ]
    }
   ],
   "source": [
    "k9.filter('prediction = 4').summary().show()"
   ]
  },
  {
   "cell_type": "markdown",
   "metadata": {},
   "source": [
    "# Cluster - 5 : One Timers-High Valued Customers- Recent Customers"
   ]
  },
  {
   "cell_type": "code",
   "execution_count": 162,
   "metadata": {
    "collapsed": false
   },
   "outputs": [
    {
     "name": "stdout",
     "output_type": "stream",
     "text": [
      "+-------+---------+------------------+-------------------+----------+\n",
      "|summary|frequency|          monetary|            recency|prediction|\n",
      "+-------+---------+------------------+-------------------+----------+\n",
      "|  count|    34900|             34900|              34900|     34900|\n",
      "|   mean|      1.0|121.61051690544416|  25.02419127848225|       5.0|\n",
      "| stddev|      0.0|  83.1499071150848|0.07390623084278554|       0.0|\n",
      "|    min|      1.0|             10.07| 24.876840889550266|         5|\n",
      "|    25%|      1.0|             59.98| 24.971245287698412|         5|\n",
      "|    50%|      1.0|             98.79| 25.020524735449737|         5|\n",
      "|    75%|      1.0|            161.77| 25.088398726851853|         5|\n",
      "|    max|      1.0|            433.28| 25.145801802248677|         5|\n",
      "+-------+---------+------------------+-------------------+----------+\n",
      "\n"
     ]
    }
   ],
   "source": [
    "k9.filter('prediction = 5').summary().show()"
   ]
  },
  {
   "cell_type": "markdown",
   "metadata": {},
   "source": [
    "# Cluster 6 - High-Frequency Customers"
   ]
  },
  {
   "cell_type": "code",
   "execution_count": 163,
   "metadata": {
    "collapsed": false
   },
   "outputs": [
    {
     "name": "stdout",
     "output_type": "stream",
     "text": [
      "+-------+------------------+-----------------+-------------------+----------+\n",
      "|summary|         frequency|         monetary|            recency|prediction|\n",
      "+-------+------------------+-----------------+-------------------+----------+\n",
      "|  count|                 6|                6|                  6|         6|\n",
      "|   mean|22.666666666666668|39.63166666666667| 24.816117545745147|       6.0|\n",
      "| stddev| 4.033195589934447|54.86145437979809|0.12660435981132187|       0.0|\n",
      "|    min|              19.0|             4.07|  24.68075949074074|         6|\n",
      "|    25%|              19.0|            12.49|  24.71240560515873|         6|\n",
      "|    50%|              21.0|             16.7|  24.74929083994709|         6|\n",
      "|    75%|              26.0|            31.43|  24.90374677579365|         6|\n",
      "|    max|              29.0|            150.0|  25.01214292328042|         6|\n",
      "+-------+------------------+-----------------+-------------------+----------+\n",
      "\n"
     ]
    }
   ],
   "source": [
    "k9.filter('prediction = 6').summary().show()"
   ]
  },
  {
   "cell_type": "markdown",
   "metadata": {},
   "source": [
    "# Cluster 7 - The High-Money Valued Customers"
   ]
  },
  {
   "cell_type": "code",
   "execution_count": 164,
   "metadata": {
    "collapsed": false
   },
   "outputs": [
    {
     "name": "stdout",
     "output_type": "stream",
     "text": [
      "+-------+-------------------+-----------------+-------------------+----------+\n",
      "|summary|          frequency|         monetary|            recency|prediction|\n",
      "+-------+-------------------+-----------------+-------------------+----------+\n",
      "|  count|                491|              491|                491|       491|\n",
      "|   mean| 1.0203665987780042|2132.463767820774| 25.045241637403155|       7.0|\n",
      "| stddev|0.14139490228535692|933.9753363178604|0.23576027857166046|       0.0|\n",
      "|    min|                1.0|          1433.04| 24.560981646825397|         7|\n",
      "|    25%|                1.0|          1642.54| 24.884108697089946|         7|\n",
      "|    50%|                1.0|          1916.08|  25.07677037037037|         7|\n",
      "|    75%|                1.0|          2252.66| 25.246603869047618|         7|\n",
      "|    max|                2.0|         13664.08| 25.400643055555555|         7|\n",
      "+-------+-------------------+-----------------+-------------------+----------+\n",
      "\n"
     ]
    }
   ],
   "source": [
    "k9.filter('prediction = 7').summary().show()"
   ]
  },
  {
   "cell_type": "code",
   "execution_count": 165,
   "metadata": {
    "collapsed": false
   },
   "outputs": [
    {
     "name": "stdout",
     "output_type": "stream",
     "text": [
      "+-------+-------------------+------------------+-------------------+----------+\n",
      "|summary|          frequency|          monetary|            recency|prediction|\n",
      "+-------+-------------------+------------------+-------------------+----------+\n",
      "|  count|               2631|              2631|               2631|      2631|\n",
      "|   mean|   2.11440516913721|100.66721018624096| 25.016179731689107|       8.0|\n",
      "| stddev|0.31836323569783037| 97.58335911617557|0.22183701541803497|       0.0|\n",
      "|    min|                2.0|              7.02| 24.398179712301587|         8|\n",
      "|    25%|                2.0|             42.02| 24.842821312830687|         8|\n",
      "|    50%|                2.0|             69.99|  25.03521840277778|         8|\n",
      "|    75%|                2.0|             117.8| 25.197754910714284|         8|\n",
      "|    max|                3.0|            682.97|  25.38808844246032|         8|\n",
      "+-------+-------------------+------------------+-------------------+----------+\n",
      "\n"
     ]
    }
   ],
   "source": [
    "k9.filter('prediction = 8').summary().show()"
   ]
  },
  {
   "cell_type": "code",
   "execution_count": null,
   "metadata": {
    "collapsed": true
   },
   "outputs": [],
   "source": []
  }
 ],
 "metadata": {
  "kernelspec": {
   "display_name": "Python 2",
   "language": "python",
   "name": "python2"
  },
  "language_info": {
   "codemirror_mode": {
    "name": "ipython",
    "version": 2
   },
   "file_extension": ".py",
   "mimetype": "text/x-python",
   "name": "python",
   "nbconvert_exporter": "python",
   "pygments_lexer": "ipython2",
   "version": "2.7.13"
  }
 },
 "nbformat": 4,
 "nbformat_minor": 2
}
